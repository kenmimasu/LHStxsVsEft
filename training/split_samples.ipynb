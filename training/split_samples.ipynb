{
 "cells": [
  {
   "cell_type": "code",
   "execution_count": 1,
   "metadata": {
    "collapsed": true
   },
   "outputs": [],
   "source": [
    "# load all libraries\n",
    "import pandas as pd\n",
    "import matplotlib.pyplot as plt\n",
    "import numpy as np\n",
    "\n",
    "%matplotlib inline"
   ]
  },
  {
   "cell_type": "code",
   "execution_count": 2,
   "metadata": {
    "collapsed": false
   },
   "outputs": [
    {
     "name": "stdout",
     "output_type": "stream",
     "text": [
      "cHW-003_test.hd5   cHW-003.txt\tSM_train.hd5   test_sm.hd5     Zbb_test.hd5\r\n",
      "cHW+003_test.hd5   cHW+003.txt\tSM.txt\t       train_bsm1.hd5  Zbb_train.hd5\r\n",
      "cHW-003_train.hd5  plots.pdf\ttest_bsm1.hd5  train_bsm2.hd5  Zbb.txt\r\n",
      "cHW+003_train.hd5  SM_test.hd5\ttest_bsm2.hd5  train_sm.hd5\r\n"
     ]
    }
   ],
   "source": [
    "# list data folder\n",
    "!ls ZH/"
   ]
  },
  {
   "cell_type": "code",
   "execution_count": 3,
   "metadata": {
    "collapsed": false
   },
   "outputs": [],
   "source": [
    "# load data-sets\n",
    "sm = pd.read_csv('ZH/SM.txt')#.astype(np.float16)\n",
    "bsm1 = pd.read_csv('ZH/cHW+003.txt')#.astype(np.float16)\n",
    "bsm2 = pd.read_csv('ZH/cHW-003.txt')#.astype(np.float16)\n",
    "bkg = pd.read_csv('ZH/Zbb.txt')#.astype(np.float16)\n",
    "\n",
    "bsm1['label'] = np.zeros((bsm1.shape[0],1))\n",
    "bsm2['label'] = np.zeros((bsm2.shape[0],1))\n",
    "sm['label'] = np.ones((sm.shape[0],1))\n",
    "bkg['label'] = np.ones((bkg.shape[0],1))*2\n"
   ]
  },
  {
   "cell_type": "code",
   "execution_count": 4,
   "metadata": {
    "collapsed": true
   },
   "outputs": [],
   "source": [
    "from sklearn.model_selection import train_test_split\n"
   ]
  },
  {
   "cell_type": "code",
   "execution_count": 5,
   "metadata": {
    "collapsed": false
   },
   "outputs": [],
   "source": [
    "def split_and_save(df,fname,**kwargs):\n",
    "    df.columns = map(lambda x: x.replace(\" \",\"\").replace('#',''),df.columns)\n",
    "    train, test = train_test_split(df,**kwargs)\n",
    "    train.to_hdf(fname+'_train.hd5','train',mode='w',format='t')\n",
    "    test.to_hdf(fname+'_test.hd5','test',mode='w',format='t')\n",
    "    "
   ]
  },
  {
   "cell_type": "code",
   "execution_count": 6,
   "metadata": {
    "collapsed": false
   },
   "outputs": [],
   "source": [
    "split_and_save(sm,'ZH/SM',random_state=12345)\n",
    "split_and_save(bsm1,'ZH/cHW+003',random_state=12345)\n",
    "split_and_save(bsm2,'ZH/cHW-003',random_state=12345)\n",
    "split_and_save(bkg,'ZH/Zbb',random_state=12345)"
   ]
  },
  {
   "cell_type": "code",
   "execution_count": 7,
   "metadata": {
    "collapsed": false
   },
   "outputs": [
    {
     "name": "stdout",
     "output_type": "stream",
     "text": [
      "cHW-003_test.hd5   cHW-003.txt\tSM_train.hd5   test_sm.hd5     Zbb_test.hd5\r\n",
      "cHW+003_test.hd5   cHW+003.txt\tSM.txt\t       train_bsm1.hd5  Zbb_train.hd5\r\n",
      "cHW-003_train.hd5  plots.pdf\ttest_bsm1.hd5  train_bsm2.hd5  Zbb.txt\r\n",
      "cHW+003_train.hd5  SM_test.hd5\ttest_bsm2.hd5  train_sm.hd5\r\n"
     ]
    }
   ],
   "source": [
    "! ls ZH"
   ]
  },
  {
   "cell_type": "code",
   "execution_count": 8,
   "metadata": {
    "collapsed": true
   },
   "outputs": [],
   "source": [
    "def mix_df(inputs,output,key, seed = 56789):   \n",
    "    df = pd.concat( list(map(pd.read_hdf,inputs)) )\n",
    "    np.random.seed(seed)\n",
    "    random_index = np.array(range(df.shape[0]))\n",
    "    np.random.shuffle(random_index)\n",
    "    df['random_index'] = random_index\n",
    "    df.set_index('random_index',inplace=True)\n",
    "    df.sort_index(inplace=True)\n",
    "    df.to_hdf(output,key,mode='w',format='t')\n",
    "    "
   ]
  },
  {
   "cell_type": "code",
   "execution_count": 9,
   "metadata": {
    "collapsed": false
   },
   "outputs": [],
   "source": [
    "mix_df(['ZH/SM_train.hd5','ZH/cHW+003_train.hd5','ZH/Zbb_train.hd5'],'ZH/train_bsm1.hd5','train')\n",
    "mix_df(['ZH/SM_test.hd5','ZH/cHW+003_test.hd5','ZH/Zbb_test.hd5'],'ZH/test_bsm1.hd5','test')\n",
    "\n",
    "mix_df(['ZH/SM_train.hd5','ZH/cHW-003_train.hd5','ZH/Zbb_train.hd5'],'ZH/train_bsm2.hd5','train')\n",
    "mix_df(['ZH/SM_test.hd5','ZH/cHW-003_test.hd5','ZH/Zbb_test.hd5'],'ZH/test_bsm2.hd5','test')\n",
    "\n",
    "mix_df(['ZH/SM_train.hd5','ZH/Zbb_train.hd5'],'ZH/train_sm.hd5','train')\n",
    "mix_df(['ZH/SM_test.hd5','ZH/Zbb_test.hd5'],'ZH/test_sm.hd5','test')\n"
   ]
  },
  {
   "cell_type": "code",
   "execution_count": 10,
   "metadata": {
    "collapsed": false
   },
   "outputs": [
    {
     "name": "stdout",
     "output_type": "stream",
     "text": [
      "total 946M\r\n",
      "-rw-r--r-- 1 musella ethz-higgs  13M Jan 16 10:48 cHW-003_test.hd5\r\n",
      "-rw-r--r-- 1 musella ethz-higgs  13M Jan 16 10:48 cHW+003_test.hd5\r\n",
      "-rw-r--r-- 1 musella ethz-higgs  38M Jan 16 10:48 cHW-003_train.hd5\r\n",
      "-rw-r--r-- 1 musella ethz-higgs  38M Jan 16 10:48 cHW+003_train.hd5\r\n",
      "-rw-r--r-- 1 musella ethz-higgs  80M Jan 15 12:36 cHW-003.txt\r\n",
      "-rw-r--r-- 1 musella ethz-higgs  80M Jan 15 12:36 cHW+003.txt\r\n",
      "-rw-r--r-- 1 musella ethz-higgs 220K Jan 15 12:36 plots.pdf\r\n",
      "-rw-r--r-- 1 musella ethz-higgs  13M Jan 16 10:48 SM_test.hd5\r\n",
      "-rw-r--r-- 1 musella ethz-higgs  38M Jan 16 10:48 SM_train.hd5\r\n",
      "-rw-r--r-- 1 musella ethz-higgs  80M Jan 15 12:35 SM.txt\r\n",
      "-rw-r--r-- 1 musella ethz-higgs  39M Jan 16 10:48 test_bsm1.hd5\r\n",
      "-rw-r--r-- 1 musella ethz-higgs  39M Jan 16 10:48 test_bsm2.hd5\r\n",
      "-rw-r--r-- 1 musella ethz-higgs  27M Jan 16 10:48 test_sm.hd5\r\n",
      "-rw-r--r-- 1 musella ethz-higgs 116M Jan 16 10:48 train_bsm1.hd5\r\n",
      "-rw-r--r-- 1 musella ethz-higgs 116M Jan 16 10:48 train_bsm2.hd5\r\n",
      "-rw-r--r-- 1 musella ethz-higgs  79M Jan 16 10:48 train_sm.hd5\r\n",
      "-rw-r--r-- 1 musella ethz-higgs  14M Jan 16 10:48 Zbb_test.hd5\r\n",
      "-rw-r--r-- 1 musella ethz-higgs  42M Jan 16 10:48 Zbb_train.hd5\r\n",
      "-rw-r--r-- 1 musella ethz-higgs  90M Jan 15 12:35 Zbb.txt\r\n"
     ]
    }
   ],
   "source": [
    "! ls -lh ZH/"
   ]
  },
  {
   "cell_type": "code",
   "execution_count": null,
   "metadata": {
    "collapsed": true
   },
   "outputs": [],
   "source": []
  }
 ],
 "metadata": {
  "anaconda-cloud": {},
  "kernelspec": {
   "display_name": "Python [default]",
   "language": "python",
   "name": "python2"
  },
  "language_info": {
   "codemirror_mode": {
    "name": "ipython",
    "version": 2
   },
   "file_extension": ".py",
   "mimetype": "text/x-python",
   "name": "python",
   "nbconvert_exporter": "python",
   "pygments_lexer": "ipython2",
   "version": "2.7.12"
  }
 },
 "nbformat": 4,
 "nbformat_minor": 1
}
